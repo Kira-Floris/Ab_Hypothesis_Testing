{
 "cells": [
  {
   "cell_type": "code",
   "execution_count": 1,
   "id": "a5ed5ad9",
   "metadata": {},
   "outputs": [],
   "source": [
    "# imports\n",
    "import pandas as pd\n",
    "import numpy as np\n",
    "import matplotlib.pyplot as plt\n",
    "import seaborn as sns"
   ]
  },
  {
   "cell_type": "code",
   "execution_count": null,
   "id": "0752d45b",
   "metadata": {},
   "outputs": [],
   "source": [
    "class SequentialABTesting:\n",
    "    def __init__(self, N, data, category. exposed, controlled):\n",
    "        self.N = N\n",
    "        self.data = data\n",
    "        self.exposed = self.data[self.data[category]==exposed]\n",
    "        self.controlled = self.data[self.data[category]==controlled]\n",
    "    \n",
    "    def treatment_success(self, success):\n",
    "        self.treatment_success_count = len(self.exposed[self.exposed[success]==1])\n",
    "        return self.treatment_success_count\n",
    "    \n",
    "    def controlled_success(self, success):\n",
    "        self.controlled_success_count = len(self.controlled[self.controlled[success]==1])\n",
    "        return self.controlled_success_count\n",
    "    \n",
    "    def testing(self):\n",
    "        T = self.treatment_success_count\n",
    "        C = self.controlled_success_count\n",
    "        summation = T+C\n",
    "        difference = T-C\n",
    "        for i in range(self.N):\n",
    "            if difference ==int(2/np.sqrt(i)):\n",
    "                return 1\n",
    "            if summation == int(i):\n",
    "                return -1\n",
    "        return \n",
    "\n",
    "        "
   ]
  }
 ],
 "metadata": {
  "kernelspec": {
   "display_name": "Python 3 (ipykernel)",
   "language": "python",
   "name": "python3"
  },
  "language_info": {
   "codemirror_mode": {
    "name": "ipython",
    "version": 3
   },
   "file_extension": ".py",
   "mimetype": "text/x-python",
   "name": "python",
   "nbconvert_exporter": "python",
   "pygments_lexer": "ipython3",
   "version": "3.8.12"
  }
 },
 "nbformat": 4,
 "nbformat_minor": 5
}
